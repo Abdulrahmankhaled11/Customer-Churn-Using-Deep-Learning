{
  "nbformat": 4,
  "nbformat_minor": 0,
  "metadata": {
    "colab": {
      "provenance": [],
      "gpuType": "T4"
    },
    "kernelspec": {
      "name": "python3",
      "display_name": "Python 3"
    },
    "language_info": {
      "name": "python"
    },
    "accelerator": "GPU"
  },
  "cells": [
    {
      "cell_type": "markdown",
      "source": [
        "## import librarries"
      ],
      "metadata": {
        "id": "6EXaUl1tiJoj"
      }
    },
    {
      "cell_type": "code",
      "execution_count": 41,
      "metadata": {
        "id": "zjZpugk20Yzj"
      },
      "outputs": [],
      "source": [
        "import pandas as pd\n",
        "import numpy as np\n",
        "\n",
        "from sklearn.model_selection import train_test_split\n",
        "from sklearn.preprocessing import StandardScaler\n",
        "\n",
        "import tensorflow as tf\n",
        "from tensorflow import keras\n"
      ]
    },
    {
      "cell_type": "markdown",
      "source": [
        "## read data"
      ],
      "metadata": {
        "id": "Tpq77nQ6iSRN"
      }
    },
    {
      "cell_type": "code",
      "source": [
        "df = pd.read_csv(\"WA_Fn-UseC_-Telco-Customer-Churn.csv\")"
      ],
      "metadata": {
        "id": "skBI7df18Efd"
      },
      "execution_count": 42,
      "outputs": []
    },
    {
      "cell_type": "markdown",
      "source": [
        "## get information about data"
      ],
      "metadata": {
        "id": "6AiM44EUiWFA"
      }
    },
    {
      "cell_type": "code",
      "source": [
        "df.head()"
      ],
      "metadata": {
        "colab": {
          "base_uri": "https://localhost:8080/",
          "height": 343
        },
        "id": "VI1kuUnW8NNt",
        "outputId": "252cb7be-a06d-4620-94e5-e3f8b354c739"
      },
      "execution_count": 43,
      "outputs": [
        {
          "output_type": "execute_result",
          "data": {
            "text/plain": [
              "   customerID  gender  SeniorCitizen Partner Dependents  tenure PhoneService  \\\n",
              "0  7590-VHVEG  Female              0     Yes         No       1           No   \n",
              "1  5575-GNVDE    Male              0      No         No      34          Yes   \n",
              "2  3668-QPYBK    Male              0      No         No       2          Yes   \n",
              "3  7795-CFOCW    Male              0      No         No      45           No   \n",
              "4  9237-HQITU  Female              0      No         No       2          Yes   \n",
              "\n",
              "      MultipleLines InternetService OnlineSecurity  ... DeviceProtection  \\\n",
              "0  No phone service             DSL             No  ...               No   \n",
              "1                No             DSL            Yes  ...              Yes   \n",
              "2                No             DSL            Yes  ...               No   \n",
              "3  No phone service             DSL            Yes  ...              Yes   \n",
              "4                No     Fiber optic             No  ...               No   \n",
              "\n",
              "  TechSupport StreamingTV StreamingMovies        Contract PaperlessBilling  \\\n",
              "0          No          No              No  Month-to-month              Yes   \n",
              "1          No          No              No        One year               No   \n",
              "2          No          No              No  Month-to-month              Yes   \n",
              "3         Yes          No              No        One year               No   \n",
              "4          No          No              No  Month-to-month              Yes   \n",
              "\n",
              "               PaymentMethod MonthlyCharges  TotalCharges Churn  \n",
              "0           Electronic check          29.85         29.85    No  \n",
              "1               Mailed check          56.95        1889.5    No  \n",
              "2               Mailed check          53.85        108.15   Yes  \n",
              "3  Bank transfer (automatic)          42.30       1840.75    No  \n",
              "4           Electronic check          70.70        151.65   Yes  \n",
              "\n",
              "[5 rows x 21 columns]"
            ],
            "text/html": [
              "\n",
              "  <div id=\"df-fb6897dd-bb1f-41f2-ab0b-2385f63b7392\" class=\"colab-df-container\">\n",
              "    <div>\n",
              "<style scoped>\n",
              "    .dataframe tbody tr th:only-of-type {\n",
              "        vertical-align: middle;\n",
              "    }\n",
              "\n",
              "    .dataframe tbody tr th {\n",
              "        vertical-align: top;\n",
              "    }\n",
              "\n",
              "    .dataframe thead th {\n",
              "        text-align: right;\n",
              "    }\n",
              "</style>\n",
              "<table border=\"1\" class=\"dataframe\">\n",
              "  <thead>\n",
              "    <tr style=\"text-align: right;\">\n",
              "      <th></th>\n",
              "      <th>customerID</th>\n",
              "      <th>gender</th>\n",
              "      <th>SeniorCitizen</th>\n",
              "      <th>Partner</th>\n",
              "      <th>Dependents</th>\n",
              "      <th>tenure</th>\n",
              "      <th>PhoneService</th>\n",
              "      <th>MultipleLines</th>\n",
              "      <th>InternetService</th>\n",
              "      <th>OnlineSecurity</th>\n",
              "      <th>...</th>\n",
              "      <th>DeviceProtection</th>\n",
              "      <th>TechSupport</th>\n",
              "      <th>StreamingTV</th>\n",
              "      <th>StreamingMovies</th>\n",
              "      <th>Contract</th>\n",
              "      <th>PaperlessBilling</th>\n",
              "      <th>PaymentMethod</th>\n",
              "      <th>MonthlyCharges</th>\n",
              "      <th>TotalCharges</th>\n",
              "      <th>Churn</th>\n",
              "    </tr>\n",
              "  </thead>\n",
              "  <tbody>\n",
              "    <tr>\n",
              "      <th>0</th>\n",
              "      <td>7590-VHVEG</td>\n",
              "      <td>Female</td>\n",
              "      <td>0</td>\n",
              "      <td>Yes</td>\n",
              "      <td>No</td>\n",
              "      <td>1</td>\n",
              "      <td>No</td>\n",
              "      <td>No phone service</td>\n",
              "      <td>DSL</td>\n",
              "      <td>No</td>\n",
              "      <td>...</td>\n",
              "      <td>No</td>\n",
              "      <td>No</td>\n",
              "      <td>No</td>\n",
              "      <td>No</td>\n",
              "      <td>Month-to-month</td>\n",
              "      <td>Yes</td>\n",
              "      <td>Electronic check</td>\n",
              "      <td>29.85</td>\n",
              "      <td>29.85</td>\n",
              "      <td>No</td>\n",
              "    </tr>\n",
              "    <tr>\n",
              "      <th>1</th>\n",
              "      <td>5575-GNVDE</td>\n",
              "      <td>Male</td>\n",
              "      <td>0</td>\n",
              "      <td>No</td>\n",
              "      <td>No</td>\n",
              "      <td>34</td>\n",
              "      <td>Yes</td>\n",
              "      <td>No</td>\n",
              "      <td>DSL</td>\n",
              "      <td>Yes</td>\n",
              "      <td>...</td>\n",
              "      <td>Yes</td>\n",
              "      <td>No</td>\n",
              "      <td>No</td>\n",
              "      <td>No</td>\n",
              "      <td>One year</td>\n",
              "      <td>No</td>\n",
              "      <td>Mailed check</td>\n",
              "      <td>56.95</td>\n",
              "      <td>1889.5</td>\n",
              "      <td>No</td>\n",
              "    </tr>\n",
              "    <tr>\n",
              "      <th>2</th>\n",
              "      <td>3668-QPYBK</td>\n",
              "      <td>Male</td>\n",
              "      <td>0</td>\n",
              "      <td>No</td>\n",
              "      <td>No</td>\n",
              "      <td>2</td>\n",
              "      <td>Yes</td>\n",
              "      <td>No</td>\n",
              "      <td>DSL</td>\n",
              "      <td>Yes</td>\n",
              "      <td>...</td>\n",
              "      <td>No</td>\n",
              "      <td>No</td>\n",
              "      <td>No</td>\n",
              "      <td>No</td>\n",
              "      <td>Month-to-month</td>\n",
              "      <td>Yes</td>\n",
              "      <td>Mailed check</td>\n",
              "      <td>53.85</td>\n",
              "      <td>108.15</td>\n",
              "      <td>Yes</td>\n",
              "    </tr>\n",
              "    <tr>\n",
              "      <th>3</th>\n",
              "      <td>7795-CFOCW</td>\n",
              "      <td>Male</td>\n",
              "      <td>0</td>\n",
              "      <td>No</td>\n",
              "      <td>No</td>\n",
              "      <td>45</td>\n",
              "      <td>No</td>\n",
              "      <td>No phone service</td>\n",
              "      <td>DSL</td>\n",
              "      <td>Yes</td>\n",
              "      <td>...</td>\n",
              "      <td>Yes</td>\n",
              "      <td>Yes</td>\n",
              "      <td>No</td>\n",
              "      <td>No</td>\n",
              "      <td>One year</td>\n",
              "      <td>No</td>\n",
              "      <td>Bank transfer (automatic)</td>\n",
              "      <td>42.30</td>\n",
              "      <td>1840.75</td>\n",
              "      <td>No</td>\n",
              "    </tr>\n",
              "    <tr>\n",
              "      <th>4</th>\n",
              "      <td>9237-HQITU</td>\n",
              "      <td>Female</td>\n",
              "      <td>0</td>\n",
              "      <td>No</td>\n",
              "      <td>No</td>\n",
              "      <td>2</td>\n",
              "      <td>Yes</td>\n",
              "      <td>No</td>\n",
              "      <td>Fiber optic</td>\n",
              "      <td>No</td>\n",
              "      <td>...</td>\n",
              "      <td>No</td>\n",
              "      <td>No</td>\n",
              "      <td>No</td>\n",
              "      <td>No</td>\n",
              "      <td>Month-to-month</td>\n",
              "      <td>Yes</td>\n",
              "      <td>Electronic check</td>\n",
              "      <td>70.70</td>\n",
              "      <td>151.65</td>\n",
              "      <td>Yes</td>\n",
              "    </tr>\n",
              "  </tbody>\n",
              "</table>\n",
              "<p>5 rows × 21 columns</p>\n",
              "</div>\n",
              "    <div class=\"colab-df-buttons\">\n",
              "\n",
              "  <div class=\"colab-df-container\">\n",
              "    <button class=\"colab-df-convert\" onclick=\"convertToInteractive('df-fb6897dd-bb1f-41f2-ab0b-2385f63b7392')\"\n",
              "            title=\"Convert this dataframe to an interactive table.\"\n",
              "            style=\"display:none;\">\n",
              "\n",
              "  <svg xmlns=\"http://www.w3.org/2000/svg\" height=\"24px\" viewBox=\"0 -960 960 960\">\n",
              "    <path d=\"M120-120v-720h720v720H120Zm60-500h600v-160H180v160Zm220 220h160v-160H400v160Zm0 220h160v-160H400v160ZM180-400h160v-160H180v160Zm440 0h160v-160H620v160ZM180-180h160v-160H180v160Zm440 0h160v-160H620v160Z\"/>\n",
              "  </svg>\n",
              "    </button>\n",
              "\n",
              "  <style>\n",
              "    .colab-df-container {\n",
              "      display:flex;\n",
              "      gap: 12px;\n",
              "    }\n",
              "\n",
              "    .colab-df-convert {\n",
              "      background-color: #E8F0FE;\n",
              "      border: none;\n",
              "      border-radius: 50%;\n",
              "      cursor: pointer;\n",
              "      display: none;\n",
              "      fill: #1967D2;\n",
              "      height: 32px;\n",
              "      padding: 0 0 0 0;\n",
              "      width: 32px;\n",
              "    }\n",
              "\n",
              "    .colab-df-convert:hover {\n",
              "      background-color: #E2EBFA;\n",
              "      box-shadow: 0px 1px 2px rgba(60, 64, 67, 0.3), 0px 1px 3px 1px rgba(60, 64, 67, 0.15);\n",
              "      fill: #174EA6;\n",
              "    }\n",
              "\n",
              "    .colab-df-buttons div {\n",
              "      margin-bottom: 4px;\n",
              "    }\n",
              "\n",
              "    [theme=dark] .colab-df-convert {\n",
              "      background-color: #3B4455;\n",
              "      fill: #D2E3FC;\n",
              "    }\n",
              "\n",
              "    [theme=dark] .colab-df-convert:hover {\n",
              "      background-color: #434B5C;\n",
              "      box-shadow: 0px 1px 3px 1px rgba(0, 0, 0, 0.15);\n",
              "      filter: drop-shadow(0px 1px 2px rgba(0, 0, 0, 0.3));\n",
              "      fill: #FFFFFF;\n",
              "    }\n",
              "  </style>\n",
              "\n",
              "    <script>\n",
              "      const buttonEl =\n",
              "        document.querySelector('#df-fb6897dd-bb1f-41f2-ab0b-2385f63b7392 button.colab-df-convert');\n",
              "      buttonEl.style.display =\n",
              "        google.colab.kernel.accessAllowed ? 'block' : 'none';\n",
              "\n",
              "      async function convertToInteractive(key) {\n",
              "        const element = document.querySelector('#df-fb6897dd-bb1f-41f2-ab0b-2385f63b7392');\n",
              "        const dataTable =\n",
              "          await google.colab.kernel.invokeFunction('convertToInteractive',\n",
              "                                                    [key], {});\n",
              "        if (!dataTable) return;\n",
              "\n",
              "        const docLinkHtml = 'Like what you see? Visit the ' +\n",
              "          '<a target=\"_blank\" href=https://colab.research.google.com/notebooks/data_table.ipynb>data table notebook</a>'\n",
              "          + ' to learn more about interactive tables.';\n",
              "        element.innerHTML = '';\n",
              "        dataTable['output_type'] = 'display_data';\n",
              "        await google.colab.output.renderOutput(dataTable, element);\n",
              "        const docLink = document.createElement('div');\n",
              "        docLink.innerHTML = docLinkHtml;\n",
              "        element.appendChild(docLink);\n",
              "      }\n",
              "    </script>\n",
              "  </div>\n",
              "\n",
              "\n",
              "<div id=\"df-612f4109-f152-47cc-8e7e-09386c04c00f\">\n",
              "  <button class=\"colab-df-quickchart\" onclick=\"quickchart('df-612f4109-f152-47cc-8e7e-09386c04c00f')\"\n",
              "            title=\"Suggest charts.\"\n",
              "            style=\"display:none;\">\n",
              "\n",
              "<svg xmlns=\"http://www.w3.org/2000/svg\" height=\"24px\"viewBox=\"0 0 24 24\"\n",
              "     width=\"24px\">\n",
              "    <g>\n",
              "        <path d=\"M19 3H5c-1.1 0-2 .9-2 2v14c0 1.1.9 2 2 2h14c1.1 0 2-.9 2-2V5c0-1.1-.9-2-2-2zM9 17H7v-7h2v7zm4 0h-2V7h2v10zm4 0h-2v-4h2v4z\"/>\n",
              "    </g>\n",
              "</svg>\n",
              "  </button>\n",
              "\n",
              "<style>\n",
              "  .colab-df-quickchart {\n",
              "    background-color: #E8F0FE;\n",
              "    border: none;\n",
              "    border-radius: 50%;\n",
              "    cursor: pointer;\n",
              "    display: none;\n",
              "    fill: #1967D2;\n",
              "    height: 32px;\n",
              "    padding: 0 0 0 0;\n",
              "    width: 32px;\n",
              "  }\n",
              "\n",
              "  .colab-df-quickchart:hover {\n",
              "    background-color: #E2EBFA;\n",
              "    box-shadow: 0px 1px 2px rgba(60, 64, 67, 0.3), 0px 1px 3px 1px rgba(60, 64, 67, 0.15);\n",
              "    fill: #174EA6;\n",
              "  }\n",
              "\n",
              "  [theme=dark] .colab-df-quickchart {\n",
              "    background-color: #3B4455;\n",
              "    fill: #D2E3FC;\n",
              "  }\n",
              "\n",
              "  [theme=dark] .colab-df-quickchart:hover {\n",
              "    background-color: #434B5C;\n",
              "    box-shadow: 0px 1px 3px 1px rgba(0, 0, 0, 0.15);\n",
              "    filter: drop-shadow(0px 1px 2px rgba(0, 0, 0, 0.3));\n",
              "    fill: #FFFFFF;\n",
              "  }\n",
              "</style>\n",
              "\n",
              "  <script>\n",
              "    async function quickchart(key) {\n",
              "      const charts = await google.colab.kernel.invokeFunction(\n",
              "          'suggestCharts', [key], {});\n",
              "    }\n",
              "    (() => {\n",
              "      let quickchartButtonEl =\n",
              "        document.querySelector('#df-612f4109-f152-47cc-8e7e-09386c04c00f button');\n",
              "      quickchartButtonEl.style.display =\n",
              "        google.colab.kernel.accessAllowed ? 'block' : 'none';\n",
              "    })();\n",
              "  </script>\n",
              "</div>\n",
              "    </div>\n",
              "  </div>\n"
            ]
          },
          "metadata": {},
          "execution_count": 43
        }
      ]
    },
    {
      "cell_type": "code",
      "source": [
        "df.info()"
      ],
      "metadata": {
        "colab": {
          "base_uri": "https://localhost:8080/"
        },
        "id": "YA22mOf58VnD",
        "outputId": "899914bb-7e36-4ea8-9202-e6c9211bdc07"
      },
      "execution_count": 44,
      "outputs": [
        {
          "output_type": "stream",
          "name": "stdout",
          "text": [
            "<class 'pandas.core.frame.DataFrame'>\n",
            "RangeIndex: 7043 entries, 0 to 7042\n",
            "Data columns (total 21 columns):\n",
            " #   Column            Non-Null Count  Dtype  \n",
            "---  ------            --------------  -----  \n",
            " 0   customerID        7043 non-null   object \n",
            " 1   gender            7043 non-null   object \n",
            " 2   SeniorCitizen     7043 non-null   int64  \n",
            " 3   Partner           7043 non-null   object \n",
            " 4   Dependents        7043 non-null   object \n",
            " 5   tenure            7043 non-null   int64  \n",
            " 6   PhoneService      7043 non-null   object \n",
            " 7   MultipleLines     7043 non-null   object \n",
            " 8   InternetService   7043 non-null   object \n",
            " 9   OnlineSecurity    7043 non-null   object \n",
            " 10  OnlineBackup      7043 non-null   object \n",
            " 11  DeviceProtection  7043 non-null   object \n",
            " 12  TechSupport       7043 non-null   object \n",
            " 13  StreamingTV       7043 non-null   object \n",
            " 14  StreamingMovies   7043 non-null   object \n",
            " 15  Contract          7043 non-null   object \n",
            " 16  PaperlessBilling  7043 non-null   object \n",
            " 17  PaymentMethod     7043 non-null   object \n",
            " 18  MonthlyCharges    7043 non-null   float64\n",
            " 19  TotalCharges      7043 non-null   object \n",
            " 20  Churn             7043 non-null   object \n",
            "dtypes: float64(1), int64(2), object(18)\n",
            "memory usage: 1.1+ MB\n"
          ]
        }
      ]
    },
    {
      "cell_type": "markdown",
      "source": [
        "## cleaning"
      ],
      "metadata": {
        "id": "SvdKesDKiaSg"
      }
    },
    {
      "cell_type": "markdown",
      "source": [
        "### drop unnecessary columns"
      ],
      "metadata": {
        "id": "kPUmaOmOieFt"
      }
    },
    {
      "cell_type": "code",
      "source": [
        "df.drop('customerID',axis = 1 ,inplace = True)"
      ],
      "metadata": {
        "id": "V69AuO7CC3ym"
      },
      "execution_count": 45,
      "outputs": []
    },
    {
      "cell_type": "code",
      "source": [
        "df.shape"
      ],
      "metadata": {
        "colab": {
          "base_uri": "https://localhost:8080/"
        },
        "id": "zrzD3XjPLDN6",
        "outputId": "bc3f57e2-db91-416f-ca75-68b57aec3bbb"
      },
      "execution_count": 46,
      "outputs": [
        {
          "output_type": "execute_result",
          "data": {
            "text/plain": [
              "(7043, 20)"
            ]
          },
          "metadata": {},
          "execution_count": 46
        }
      ]
    },
    {
      "cell_type": "markdown",
      "source": [
        "## validate columns types"
      ],
      "metadata": {
        "id": "dgYpx_JXilRF"
      }
    },
    {
      "cell_type": "code",
      "source": [
        "df.dtypes"
      ],
      "metadata": {
        "colab": {
          "base_uri": "https://localhost:8080/"
        },
        "id": "J3FD3bOVDARh",
        "outputId": "2b46c644-ef7f-4d30-d509-cc9fcbd130d3"
      },
      "execution_count": 47,
      "outputs": [
        {
          "output_type": "execute_result",
          "data": {
            "text/plain": [
              "gender               object\n",
              "SeniorCitizen         int64\n",
              "Partner              object\n",
              "Dependents           object\n",
              "tenure                int64\n",
              "PhoneService         object\n",
              "MultipleLines        object\n",
              "InternetService      object\n",
              "OnlineSecurity       object\n",
              "OnlineBackup         object\n",
              "DeviceProtection     object\n",
              "TechSupport          object\n",
              "StreamingTV          object\n",
              "StreamingMovies      object\n",
              "Contract             object\n",
              "PaperlessBilling     object\n",
              "PaymentMethod        object\n",
              "MonthlyCharges      float64\n",
              "TotalCharges         object\n",
              "Churn                object\n",
              "dtype: object"
            ]
          },
          "metadata": {},
          "execution_count": 47
        }
      ]
    },
    {
      "cell_type": "code",
      "source": [
        "df.TotalCharges= pd.to_numeric(df.TotalCharges, errors = 'coerce')"
      ],
      "metadata": {
        "id": "oCatV3QyD15G"
      },
      "execution_count": 48,
      "outputs": []
    },
    {
      "cell_type": "markdown",
      "source": [
        "----------------\n",
        "### remove null data"
      ],
      "metadata": {
        "id": "hjpnLUdXiqyg"
      }
    },
    {
      "cell_type": "code",
      "source": [
        "df.isnull().sum()"
      ],
      "metadata": {
        "colab": {
          "base_uri": "https://localhost:8080/"
        },
        "id": "qcnrePOpDusP",
        "outputId": "d599ef41-6701-4dd7-d252-5ee95d68d3d7"
      },
      "execution_count": 49,
      "outputs": [
        {
          "output_type": "execute_result",
          "data": {
            "text/plain": [
              "gender               0\n",
              "SeniorCitizen        0\n",
              "Partner              0\n",
              "Dependents           0\n",
              "tenure               0\n",
              "PhoneService         0\n",
              "MultipleLines        0\n",
              "InternetService      0\n",
              "OnlineSecurity       0\n",
              "OnlineBackup         0\n",
              "DeviceProtection     0\n",
              "TechSupport          0\n",
              "StreamingTV          0\n",
              "StreamingMovies      0\n",
              "Contract             0\n",
              "PaperlessBilling     0\n",
              "PaymentMethod        0\n",
              "MonthlyCharges       0\n",
              "TotalCharges        11\n",
              "Churn                0\n",
              "dtype: int64"
            ]
          },
          "metadata": {},
          "execution_count": 49
        }
      ]
    },
    {
      "cell_type": "code",
      "source": [
        "df.dropna(inplace=True)"
      ],
      "metadata": {
        "id": "ibXeoJr8Ek4W"
      },
      "execution_count": 50,
      "outputs": []
    },
    {
      "cell_type": "markdown",
      "source": [
        "--------------------------\n",
        "### remove duplicates"
      ],
      "metadata": {
        "id": "U6YPRqBBFQJI"
      }
    },
    {
      "cell_type": "code",
      "source": [
        "df[df.duplicated()].shape"
      ],
      "metadata": {
        "colab": {
          "base_uri": "https://localhost:8080/"
        },
        "id": "shjyesiVKu-e",
        "outputId": "4ac44604-8abe-40a6-fbe3-df1d0f0e208b"
      },
      "execution_count": 51,
      "outputs": [
        {
          "output_type": "execute_result",
          "data": {
            "text/plain": [
              "(22, 20)"
            ]
          },
          "metadata": {},
          "execution_count": 51
        }
      ]
    },
    {
      "cell_type": "code",
      "source": [
        "df.drop_duplicates(inplace=True)"
      ],
      "metadata": {
        "id": "YIs0nBhyLJdG"
      },
      "execution_count": 52,
      "outputs": []
    },
    {
      "cell_type": "markdown",
      "source": [
        "### encoding [dummy variable]"
      ],
      "metadata": {
        "id": "_GxzqxwVi255"
      }
    },
    {
      "cell_type": "code",
      "source": [
        "for c in df.columns:\n",
        "  if df[c].dtypes== 'O':\n",
        "    print(f'{c} : {df[c].unique()}')"
      ],
      "metadata": {
        "colab": {
          "base_uri": "https://localhost:8080/"
        },
        "id": "O2HvaobkFKwP",
        "outputId": "6bca0b54-2dd5-4dd7-9226-90ac6859f1c5"
      },
      "execution_count": 53,
      "outputs": [
        {
          "output_type": "stream",
          "name": "stdout",
          "text": [
            "gender : ['Female' 'Male']\n",
            "Partner : ['Yes' 'No']\n",
            "Dependents : ['No' 'Yes']\n",
            "PhoneService : ['No' 'Yes']\n",
            "MultipleLines : ['No phone service' 'No' 'Yes']\n",
            "InternetService : ['DSL' 'Fiber optic' 'No']\n",
            "OnlineSecurity : ['No' 'Yes' 'No internet service']\n",
            "OnlineBackup : ['Yes' 'No' 'No internet service']\n",
            "DeviceProtection : ['No' 'Yes' 'No internet service']\n",
            "TechSupport : ['No' 'Yes' 'No internet service']\n",
            "StreamingTV : ['No' 'Yes' 'No internet service']\n",
            "StreamingMovies : ['No' 'Yes' 'No internet service']\n",
            "Contract : ['Month-to-month' 'One year' 'Two year']\n",
            "PaperlessBilling : ['Yes' 'No']\n",
            "PaymentMethod : ['Electronic check' 'Mailed check' 'Bank transfer (automatic)'\n",
            " 'Credit card (automatic)']\n",
            "Churn : ['No' 'Yes']\n"
          ]
        }
      ]
    },
    {
      "cell_type": "code",
      "source": [
        "df=df.replace('No phone service','No')"
      ],
      "metadata": {
        "id": "0SYp_65tGF-W"
      },
      "execution_count": 54,
      "outputs": []
    },
    {
      "cell_type": "code",
      "source": [
        "df=df.replace('No internet service','No')"
      ],
      "metadata": {
        "id": "Eml1zwztGqgS"
      },
      "execution_count": 55,
      "outputs": []
    },
    {
      "cell_type": "code",
      "source": [
        "for c in df.columns:\n",
        "  if df[c].dtypes== 'O':\n",
        "    print(f'{c} : {df[c].unique()}')"
      ],
      "metadata": {
        "colab": {
          "base_uri": "https://localhost:8080/"
        },
        "id": "Fjn87L3FJfpl",
        "outputId": "499b1b81-cb8e-439c-e695-836d866f90a7"
      },
      "execution_count": 56,
      "outputs": [
        {
          "output_type": "stream",
          "name": "stdout",
          "text": [
            "gender : ['Female' 'Male']\n",
            "Partner : ['Yes' 'No']\n",
            "Dependents : ['No' 'Yes']\n",
            "PhoneService : ['No' 'Yes']\n",
            "MultipleLines : ['No' 'Yes']\n",
            "InternetService : ['DSL' 'Fiber optic' 'No']\n",
            "OnlineSecurity : ['No' 'Yes']\n",
            "OnlineBackup : ['Yes' 'No']\n",
            "DeviceProtection : ['No' 'Yes']\n",
            "TechSupport : ['No' 'Yes']\n",
            "StreamingTV : ['No' 'Yes']\n",
            "StreamingMovies : ['No' 'Yes']\n",
            "Contract : ['Month-to-month' 'One year' 'Two year']\n",
            "PaperlessBilling : ['Yes' 'No']\n",
            "PaymentMethod : ['Electronic check' 'Mailed check' 'Bank transfer (automatic)'\n",
            " 'Credit card (automatic)']\n",
            "Churn : ['No' 'Yes']\n"
          ]
        }
      ]
    },
    {
      "cell_type": "code",
      "source": [
        "df = pd.get_dummies(data=df , columns = ['gender','Partner','Dependents','PhoneService','MultipleLines','InternetService','OnlineSecurity','OnlineBackup','DeviceProtection','TechSupport','StreamingTV','StreamingMovies','Contract','PaperlessBilling','PaymentMethod','Churn'], drop_first=True)"
      ],
      "metadata": {
        "id": "662LOS9LKiIP"
      },
      "execution_count": 57,
      "outputs": []
    },
    {
      "cell_type": "code",
      "source": [
        "df.shape"
      ],
      "metadata": {
        "colab": {
          "base_uri": "https://localhost:8080/"
        },
        "id": "VpPg4mYEMIfB",
        "outputId": "58542707-cbc1-4018-f674-855c77c1a822"
      },
      "execution_count": 58,
      "outputs": [
        {
          "output_type": "execute_result",
          "data": {
            "text/plain": [
              "(7010, 24)"
            ]
          },
          "metadata": {},
          "execution_count": 58
        }
      ]
    },
    {
      "cell_type": "markdown",
      "source": [
        "----------------\n",
        "## scaling"
      ],
      "metadata": {
        "id": "jG7Zp7w_i9QG"
      }
    },
    {
      "cell_type": "code",
      "source": [
        "scaler = StandardScaler()\n",
        "df[['tenure','MonthlyCharges','TotalCharges']] = scaler.fit_transform(df[['tenure','MonthlyCharges','TotalCharges']])"
      ],
      "metadata": {
        "id": "Nin6PAXWJidQ"
      },
      "execution_count": 59,
      "outputs": []
    },
    {
      "cell_type": "code",
      "source": [
        "df.sample(4)"
      ],
      "metadata": {
        "colab": {
          "base_uri": "https://localhost:8080/",
          "height": 242
        },
        "id": "72BrCv2KKWjl",
        "outputId": "beeceead-5021-4391-b9a4-0000c009e08a"
      },
      "execution_count": 60,
      "outputs": [
        {
          "output_type": "execute_result",
          "data": {
            "text/plain": [
              "      SeniorCitizen    tenure  MonthlyCharges  TotalCharges  gender_Male  \\\n",
              "5103              0 -0.184365        0.597464      0.013432            0   \n",
              "5846              0 -1.203996        0.372933     -0.896806            0   \n",
              "2157              0  0.753694        1.394134      1.415496            1   \n",
              "588               0  1.610184        1.139665      2.264013            1   \n",
              "\n",
              "      Partner_Yes  Dependents_Yes  PhoneService_Yes  MultipleLines_Yes  \\\n",
              "5103            1               1                 1                  0   \n",
              "5846            0               0                 1                  1   \n",
              "2157            1               0                 1                  1   \n",
              "588             1               0                 1                  1   \n",
              "\n",
              "      InternetService_Fiber optic  ...  TechSupport_Yes  StreamingTV_Yes  \\\n",
              "5103                            1  ...                0                0   \n",
              "5846                            1  ...                0                0   \n",
              "2157                            1  ...                0                1   \n",
              "588                             1  ...                0                0   \n",
              "\n",
              "      StreamingMovies_Yes  Contract_One year  Contract_Two year  \\\n",
              "5103                    1                  1                  0   \n",
              "5846                    0                  0                  0   \n",
              "2157                    1                  1                  0   \n",
              "588                     1                  0                  1   \n",
              "\n",
              "      PaperlessBilling_Yes  PaymentMethod_Credit card (automatic)  \\\n",
              "5103                     1                                      0   \n",
              "5846                     0                                      0   \n",
              "2157                     1                                      0   \n",
              "588                      1                                      0   \n",
              "\n",
              "      PaymentMethod_Electronic check  PaymentMethod_Mailed check  Churn_Yes  \n",
              "5103                               0                           0          0  \n",
              "5846                               1                           0          0  \n",
              "2157                               0                           0          0  \n",
              "588                                1                           0          0  \n",
              "\n",
              "[4 rows x 24 columns]"
            ],
            "text/html": [
              "\n",
              "  <div id=\"df-6eb44c9a-a1e8-4d95-af39-71bc55dc45f6\" class=\"colab-df-container\">\n",
              "    <div>\n",
              "<style scoped>\n",
              "    .dataframe tbody tr th:only-of-type {\n",
              "        vertical-align: middle;\n",
              "    }\n",
              "\n",
              "    .dataframe tbody tr th {\n",
              "        vertical-align: top;\n",
              "    }\n",
              "\n",
              "    .dataframe thead th {\n",
              "        text-align: right;\n",
              "    }\n",
              "</style>\n",
              "<table border=\"1\" class=\"dataframe\">\n",
              "  <thead>\n",
              "    <tr style=\"text-align: right;\">\n",
              "      <th></th>\n",
              "      <th>SeniorCitizen</th>\n",
              "      <th>tenure</th>\n",
              "      <th>MonthlyCharges</th>\n",
              "      <th>TotalCharges</th>\n",
              "      <th>gender_Male</th>\n",
              "      <th>Partner_Yes</th>\n",
              "      <th>Dependents_Yes</th>\n",
              "      <th>PhoneService_Yes</th>\n",
              "      <th>MultipleLines_Yes</th>\n",
              "      <th>InternetService_Fiber optic</th>\n",
              "      <th>...</th>\n",
              "      <th>TechSupport_Yes</th>\n",
              "      <th>StreamingTV_Yes</th>\n",
              "      <th>StreamingMovies_Yes</th>\n",
              "      <th>Contract_One year</th>\n",
              "      <th>Contract_Two year</th>\n",
              "      <th>PaperlessBilling_Yes</th>\n",
              "      <th>PaymentMethod_Credit card (automatic)</th>\n",
              "      <th>PaymentMethod_Electronic check</th>\n",
              "      <th>PaymentMethod_Mailed check</th>\n",
              "      <th>Churn_Yes</th>\n",
              "    </tr>\n",
              "  </thead>\n",
              "  <tbody>\n",
              "    <tr>\n",
              "      <th>5103</th>\n",
              "      <td>0</td>\n",
              "      <td>-0.184365</td>\n",
              "      <td>0.597464</td>\n",
              "      <td>0.013432</td>\n",
              "      <td>0</td>\n",
              "      <td>1</td>\n",
              "      <td>1</td>\n",
              "      <td>1</td>\n",
              "      <td>0</td>\n",
              "      <td>1</td>\n",
              "      <td>...</td>\n",
              "      <td>0</td>\n",
              "      <td>0</td>\n",
              "      <td>1</td>\n",
              "      <td>1</td>\n",
              "      <td>0</td>\n",
              "      <td>1</td>\n",
              "      <td>0</td>\n",
              "      <td>0</td>\n",
              "      <td>0</td>\n",
              "      <td>0</td>\n",
              "    </tr>\n",
              "    <tr>\n",
              "      <th>5846</th>\n",
              "      <td>0</td>\n",
              "      <td>-1.203996</td>\n",
              "      <td>0.372933</td>\n",
              "      <td>-0.896806</td>\n",
              "      <td>0</td>\n",
              "      <td>0</td>\n",
              "      <td>0</td>\n",
              "      <td>1</td>\n",
              "      <td>1</td>\n",
              "      <td>1</td>\n",
              "      <td>...</td>\n",
              "      <td>0</td>\n",
              "      <td>0</td>\n",
              "      <td>0</td>\n",
              "      <td>0</td>\n",
              "      <td>0</td>\n",
              "      <td>0</td>\n",
              "      <td>0</td>\n",
              "      <td>1</td>\n",
              "      <td>0</td>\n",
              "      <td>0</td>\n",
              "    </tr>\n",
              "    <tr>\n",
              "      <th>2157</th>\n",
              "      <td>0</td>\n",
              "      <td>0.753694</td>\n",
              "      <td>1.394134</td>\n",
              "      <td>1.415496</td>\n",
              "      <td>1</td>\n",
              "      <td>1</td>\n",
              "      <td>0</td>\n",
              "      <td>1</td>\n",
              "      <td>1</td>\n",
              "      <td>1</td>\n",
              "      <td>...</td>\n",
              "      <td>0</td>\n",
              "      <td>1</td>\n",
              "      <td>1</td>\n",
              "      <td>1</td>\n",
              "      <td>0</td>\n",
              "      <td>1</td>\n",
              "      <td>0</td>\n",
              "      <td>0</td>\n",
              "      <td>0</td>\n",
              "      <td>0</td>\n",
              "    </tr>\n",
              "    <tr>\n",
              "      <th>588</th>\n",
              "      <td>0</td>\n",
              "      <td>1.610184</td>\n",
              "      <td>1.139665</td>\n",
              "      <td>2.264013</td>\n",
              "      <td>1</td>\n",
              "      <td>1</td>\n",
              "      <td>0</td>\n",
              "      <td>1</td>\n",
              "      <td>1</td>\n",
              "      <td>1</td>\n",
              "      <td>...</td>\n",
              "      <td>0</td>\n",
              "      <td>0</td>\n",
              "      <td>1</td>\n",
              "      <td>0</td>\n",
              "      <td>1</td>\n",
              "      <td>1</td>\n",
              "      <td>0</td>\n",
              "      <td>1</td>\n",
              "      <td>0</td>\n",
              "      <td>0</td>\n",
              "    </tr>\n",
              "  </tbody>\n",
              "</table>\n",
              "<p>4 rows × 24 columns</p>\n",
              "</div>\n",
              "    <div class=\"colab-df-buttons\">\n",
              "\n",
              "  <div class=\"colab-df-container\">\n",
              "    <button class=\"colab-df-convert\" onclick=\"convertToInteractive('df-6eb44c9a-a1e8-4d95-af39-71bc55dc45f6')\"\n",
              "            title=\"Convert this dataframe to an interactive table.\"\n",
              "            style=\"display:none;\">\n",
              "\n",
              "  <svg xmlns=\"http://www.w3.org/2000/svg\" height=\"24px\" viewBox=\"0 -960 960 960\">\n",
              "    <path d=\"M120-120v-720h720v720H120Zm60-500h600v-160H180v160Zm220 220h160v-160H400v160Zm0 220h160v-160H400v160ZM180-400h160v-160H180v160Zm440 0h160v-160H620v160ZM180-180h160v-160H180v160Zm440 0h160v-160H620v160Z\"/>\n",
              "  </svg>\n",
              "    </button>\n",
              "\n",
              "  <style>\n",
              "    .colab-df-container {\n",
              "      display:flex;\n",
              "      gap: 12px;\n",
              "    }\n",
              "\n",
              "    .colab-df-convert {\n",
              "      background-color: #E8F0FE;\n",
              "      border: none;\n",
              "      border-radius: 50%;\n",
              "      cursor: pointer;\n",
              "      display: none;\n",
              "      fill: #1967D2;\n",
              "      height: 32px;\n",
              "      padding: 0 0 0 0;\n",
              "      width: 32px;\n",
              "    }\n",
              "\n",
              "    .colab-df-convert:hover {\n",
              "      background-color: #E2EBFA;\n",
              "      box-shadow: 0px 1px 2px rgba(60, 64, 67, 0.3), 0px 1px 3px 1px rgba(60, 64, 67, 0.15);\n",
              "      fill: #174EA6;\n",
              "    }\n",
              "\n",
              "    .colab-df-buttons div {\n",
              "      margin-bottom: 4px;\n",
              "    }\n",
              "\n",
              "    [theme=dark] .colab-df-convert {\n",
              "      background-color: #3B4455;\n",
              "      fill: #D2E3FC;\n",
              "    }\n",
              "\n",
              "    [theme=dark] .colab-df-convert:hover {\n",
              "      background-color: #434B5C;\n",
              "      box-shadow: 0px 1px 3px 1px rgba(0, 0, 0, 0.15);\n",
              "      filter: drop-shadow(0px 1px 2px rgba(0, 0, 0, 0.3));\n",
              "      fill: #FFFFFF;\n",
              "    }\n",
              "  </style>\n",
              "\n",
              "    <script>\n",
              "      const buttonEl =\n",
              "        document.querySelector('#df-6eb44c9a-a1e8-4d95-af39-71bc55dc45f6 button.colab-df-convert');\n",
              "      buttonEl.style.display =\n",
              "        google.colab.kernel.accessAllowed ? 'block' : 'none';\n",
              "\n",
              "      async function convertToInteractive(key) {\n",
              "        const element = document.querySelector('#df-6eb44c9a-a1e8-4d95-af39-71bc55dc45f6');\n",
              "        const dataTable =\n",
              "          await google.colab.kernel.invokeFunction('convertToInteractive',\n",
              "                                                    [key], {});\n",
              "        if (!dataTable) return;\n",
              "\n",
              "        const docLinkHtml = 'Like what you see? Visit the ' +\n",
              "          '<a target=\"_blank\" href=https://colab.research.google.com/notebooks/data_table.ipynb>data table notebook</a>'\n",
              "          + ' to learn more about interactive tables.';\n",
              "        element.innerHTML = '';\n",
              "        dataTable['output_type'] = 'display_data';\n",
              "        await google.colab.output.renderOutput(dataTable, element);\n",
              "        const docLink = document.createElement('div');\n",
              "        docLink.innerHTML = docLinkHtml;\n",
              "        element.appendChild(docLink);\n",
              "      }\n",
              "    </script>\n",
              "  </div>\n",
              "\n",
              "    </div>\n",
              "  </div>\n"
            ]
          },
          "metadata": {},
          "execution_count": 60
        }
      ]
    },
    {
      "cell_type": "code",
      "source": [
        "df.head(5)"
      ],
      "metadata": {
        "colab": {
          "base_uri": "https://localhost:8080/",
          "height": 273
        },
        "id": "lSrxA97tML4k",
        "outputId": "11e9480d-f4e4-4140-fba3-86aeb0fd6fef"
      },
      "execution_count": 61,
      "outputs": [
        {
          "output_type": "execute_result",
          "data": {
            "text/plain": [
              "   SeniorCitizen    tenure  MonthlyCharges  TotalCharges  gender_Male  \\\n",
              "0              0 -1.285566       -1.165523     -0.997284            0   \n",
              "1              0  0.060346       -0.264071     -0.176848            1   \n",
              "2              0 -1.244781       -0.367189     -0.962740            1   \n",
              "3              0  0.508983       -0.751387     -0.198355            1   \n",
              "4              0 -1.244781        0.193308     -0.943549            0   \n",
              "\n",
              "   Partner_Yes  Dependents_Yes  PhoneService_Yes  MultipleLines_Yes  \\\n",
              "0            1               0                 0                  0   \n",
              "1            0               0                 1                  0   \n",
              "2            0               0                 1                  0   \n",
              "3            0               0                 0                  0   \n",
              "4            0               0                 1                  0   \n",
              "\n",
              "   InternetService_Fiber optic  ...  TechSupport_Yes  StreamingTV_Yes  \\\n",
              "0                            0  ...                0                0   \n",
              "1                            0  ...                0                0   \n",
              "2                            0  ...                0                0   \n",
              "3                            0  ...                1                0   \n",
              "4                            1  ...                0                0   \n",
              "\n",
              "   StreamingMovies_Yes  Contract_One year  Contract_Two year  \\\n",
              "0                    0                  0                  0   \n",
              "1                    0                  1                  0   \n",
              "2                    0                  0                  0   \n",
              "3                    0                  1                  0   \n",
              "4                    0                  0                  0   \n",
              "\n",
              "   PaperlessBilling_Yes  PaymentMethod_Credit card (automatic)  \\\n",
              "0                     1                                      0   \n",
              "1                     0                                      0   \n",
              "2                     1                                      0   \n",
              "3                     0                                      0   \n",
              "4                     1                                      0   \n",
              "\n",
              "   PaymentMethod_Electronic check  PaymentMethod_Mailed check  Churn_Yes  \n",
              "0                               1                           0          0  \n",
              "1                               0                           1          0  \n",
              "2                               0                           1          1  \n",
              "3                               0                           0          0  \n",
              "4                               1                           0          1  \n",
              "\n",
              "[5 rows x 24 columns]"
            ],
            "text/html": [
              "\n",
              "  <div id=\"df-bc06193b-3496-4ce8-b7fa-3aebf0490113\" class=\"colab-df-container\">\n",
              "    <div>\n",
              "<style scoped>\n",
              "    .dataframe tbody tr th:only-of-type {\n",
              "        vertical-align: middle;\n",
              "    }\n",
              "\n",
              "    .dataframe tbody tr th {\n",
              "        vertical-align: top;\n",
              "    }\n",
              "\n",
              "    .dataframe thead th {\n",
              "        text-align: right;\n",
              "    }\n",
              "</style>\n",
              "<table border=\"1\" class=\"dataframe\">\n",
              "  <thead>\n",
              "    <tr style=\"text-align: right;\">\n",
              "      <th></th>\n",
              "      <th>SeniorCitizen</th>\n",
              "      <th>tenure</th>\n",
              "      <th>MonthlyCharges</th>\n",
              "      <th>TotalCharges</th>\n",
              "      <th>gender_Male</th>\n",
              "      <th>Partner_Yes</th>\n",
              "      <th>Dependents_Yes</th>\n",
              "      <th>PhoneService_Yes</th>\n",
              "      <th>MultipleLines_Yes</th>\n",
              "      <th>InternetService_Fiber optic</th>\n",
              "      <th>...</th>\n",
              "      <th>TechSupport_Yes</th>\n",
              "      <th>StreamingTV_Yes</th>\n",
              "      <th>StreamingMovies_Yes</th>\n",
              "      <th>Contract_One year</th>\n",
              "      <th>Contract_Two year</th>\n",
              "      <th>PaperlessBilling_Yes</th>\n",
              "      <th>PaymentMethod_Credit card (automatic)</th>\n",
              "      <th>PaymentMethod_Electronic check</th>\n",
              "      <th>PaymentMethod_Mailed check</th>\n",
              "      <th>Churn_Yes</th>\n",
              "    </tr>\n",
              "  </thead>\n",
              "  <tbody>\n",
              "    <tr>\n",
              "      <th>0</th>\n",
              "      <td>0</td>\n",
              "      <td>-1.285566</td>\n",
              "      <td>-1.165523</td>\n",
              "      <td>-0.997284</td>\n",
              "      <td>0</td>\n",
              "      <td>1</td>\n",
              "      <td>0</td>\n",
              "      <td>0</td>\n",
              "      <td>0</td>\n",
              "      <td>0</td>\n",
              "      <td>...</td>\n",
              "      <td>0</td>\n",
              "      <td>0</td>\n",
              "      <td>0</td>\n",
              "      <td>0</td>\n",
              "      <td>0</td>\n",
              "      <td>1</td>\n",
              "      <td>0</td>\n",
              "      <td>1</td>\n",
              "      <td>0</td>\n",
              "      <td>0</td>\n",
              "    </tr>\n",
              "    <tr>\n",
              "      <th>1</th>\n",
              "      <td>0</td>\n",
              "      <td>0.060346</td>\n",
              "      <td>-0.264071</td>\n",
              "      <td>-0.176848</td>\n",
              "      <td>1</td>\n",
              "      <td>0</td>\n",
              "      <td>0</td>\n",
              "      <td>1</td>\n",
              "      <td>0</td>\n",
              "      <td>0</td>\n",
              "      <td>...</td>\n",
              "      <td>0</td>\n",
              "      <td>0</td>\n",
              "      <td>0</td>\n",
              "      <td>1</td>\n",
              "      <td>0</td>\n",
              "      <td>0</td>\n",
              "      <td>0</td>\n",
              "      <td>0</td>\n",
              "      <td>1</td>\n",
              "      <td>0</td>\n",
              "    </tr>\n",
              "    <tr>\n",
              "      <th>2</th>\n",
              "      <td>0</td>\n",
              "      <td>-1.244781</td>\n",
              "      <td>-0.367189</td>\n",
              "      <td>-0.962740</td>\n",
              "      <td>1</td>\n",
              "      <td>0</td>\n",
              "      <td>0</td>\n",
              "      <td>1</td>\n",
              "      <td>0</td>\n",
              "      <td>0</td>\n",
              "      <td>...</td>\n",
              "      <td>0</td>\n",
              "      <td>0</td>\n",
              "      <td>0</td>\n",
              "      <td>0</td>\n",
              "      <td>0</td>\n",
              "      <td>1</td>\n",
              "      <td>0</td>\n",
              "      <td>0</td>\n",
              "      <td>1</td>\n",
              "      <td>1</td>\n",
              "    </tr>\n",
              "    <tr>\n",
              "      <th>3</th>\n",
              "      <td>0</td>\n",
              "      <td>0.508983</td>\n",
              "      <td>-0.751387</td>\n",
              "      <td>-0.198355</td>\n",
              "      <td>1</td>\n",
              "      <td>0</td>\n",
              "      <td>0</td>\n",
              "      <td>0</td>\n",
              "      <td>0</td>\n",
              "      <td>0</td>\n",
              "      <td>...</td>\n",
              "      <td>1</td>\n",
              "      <td>0</td>\n",
              "      <td>0</td>\n",
              "      <td>1</td>\n",
              "      <td>0</td>\n",
              "      <td>0</td>\n",
              "      <td>0</td>\n",
              "      <td>0</td>\n",
              "      <td>0</td>\n",
              "      <td>0</td>\n",
              "    </tr>\n",
              "    <tr>\n",
              "      <th>4</th>\n",
              "      <td>0</td>\n",
              "      <td>-1.244781</td>\n",
              "      <td>0.193308</td>\n",
              "      <td>-0.943549</td>\n",
              "      <td>0</td>\n",
              "      <td>0</td>\n",
              "      <td>0</td>\n",
              "      <td>1</td>\n",
              "      <td>0</td>\n",
              "      <td>1</td>\n",
              "      <td>...</td>\n",
              "      <td>0</td>\n",
              "      <td>0</td>\n",
              "      <td>0</td>\n",
              "      <td>0</td>\n",
              "      <td>0</td>\n",
              "      <td>1</td>\n",
              "      <td>0</td>\n",
              "      <td>1</td>\n",
              "      <td>0</td>\n",
              "      <td>1</td>\n",
              "    </tr>\n",
              "  </tbody>\n",
              "</table>\n",
              "<p>5 rows × 24 columns</p>\n",
              "</div>\n",
              "    <div class=\"colab-df-buttons\">\n",
              "\n",
              "  <div class=\"colab-df-container\">\n",
              "    <button class=\"colab-df-convert\" onclick=\"convertToInteractive('df-bc06193b-3496-4ce8-b7fa-3aebf0490113')\"\n",
              "            title=\"Convert this dataframe to an interactive table.\"\n",
              "            style=\"display:none;\">\n",
              "\n",
              "  <svg xmlns=\"http://www.w3.org/2000/svg\" height=\"24px\" viewBox=\"0 -960 960 960\">\n",
              "    <path d=\"M120-120v-720h720v720H120Zm60-500h600v-160H180v160Zm220 220h160v-160H400v160Zm0 220h160v-160H400v160ZM180-400h160v-160H180v160Zm440 0h160v-160H620v160ZM180-180h160v-160H180v160Zm440 0h160v-160H620v160Z\"/>\n",
              "  </svg>\n",
              "    </button>\n",
              "\n",
              "  <style>\n",
              "    .colab-df-container {\n",
              "      display:flex;\n",
              "      gap: 12px;\n",
              "    }\n",
              "\n",
              "    .colab-df-convert {\n",
              "      background-color: #E8F0FE;\n",
              "      border: none;\n",
              "      border-radius: 50%;\n",
              "      cursor: pointer;\n",
              "      display: none;\n",
              "      fill: #1967D2;\n",
              "      height: 32px;\n",
              "      padding: 0 0 0 0;\n",
              "      width: 32px;\n",
              "    }\n",
              "\n",
              "    .colab-df-convert:hover {\n",
              "      background-color: #E2EBFA;\n",
              "      box-shadow: 0px 1px 2px rgba(60, 64, 67, 0.3), 0px 1px 3px 1px rgba(60, 64, 67, 0.15);\n",
              "      fill: #174EA6;\n",
              "    }\n",
              "\n",
              "    .colab-df-buttons div {\n",
              "      margin-bottom: 4px;\n",
              "    }\n",
              "\n",
              "    [theme=dark] .colab-df-convert {\n",
              "      background-color: #3B4455;\n",
              "      fill: #D2E3FC;\n",
              "    }\n",
              "\n",
              "    [theme=dark] .colab-df-convert:hover {\n",
              "      background-color: #434B5C;\n",
              "      box-shadow: 0px 1px 3px 1px rgba(0, 0, 0, 0.15);\n",
              "      filter: drop-shadow(0px 1px 2px rgba(0, 0, 0, 0.3));\n",
              "      fill: #FFFFFF;\n",
              "    }\n",
              "  </style>\n",
              "\n",
              "    <script>\n",
              "      const buttonEl =\n",
              "        document.querySelector('#df-bc06193b-3496-4ce8-b7fa-3aebf0490113 button.colab-df-convert');\n",
              "      buttonEl.style.display =\n",
              "        google.colab.kernel.accessAllowed ? 'block' : 'none';\n",
              "\n",
              "      async function convertToInteractive(key) {\n",
              "        const element = document.querySelector('#df-bc06193b-3496-4ce8-b7fa-3aebf0490113');\n",
              "        const dataTable =\n",
              "          await google.colab.kernel.invokeFunction('convertToInteractive',\n",
              "                                                    [key], {});\n",
              "        if (!dataTable) return;\n",
              "\n",
              "        const docLinkHtml = 'Like what you see? Visit the ' +\n",
              "          '<a target=\"_blank\" href=https://colab.research.google.com/notebooks/data_table.ipynb>data table notebook</a>'\n",
              "          + ' to learn more about interactive tables.';\n",
              "        element.innerHTML = '';\n",
              "        dataTable['output_type'] = 'display_data';\n",
              "        await google.colab.output.renderOutput(dataTable, element);\n",
              "        const docLink = document.createElement('div');\n",
              "        docLink.innerHTML = docLinkHtml;\n",
              "        element.appendChild(docLink);\n",
              "      }\n",
              "    </script>\n",
              "  </div>\n",
              "\n",
              "\n",
              "<div id=\"df-3866a1fd-2120-4cf2-80e6-a416d44ae3a5\">\n",
              "  <button class=\"colab-df-quickchart\" onclick=\"quickchart('df-3866a1fd-2120-4cf2-80e6-a416d44ae3a5')\"\n",
              "            title=\"Suggest charts.\"\n",
              "            style=\"display:none;\">\n",
              "\n",
              "<svg xmlns=\"http://www.w3.org/2000/svg\" height=\"24px\"viewBox=\"0 0 24 24\"\n",
              "     width=\"24px\">\n",
              "    <g>\n",
              "        <path d=\"M19 3H5c-1.1 0-2 .9-2 2v14c0 1.1.9 2 2 2h14c1.1 0 2-.9 2-2V5c0-1.1-.9-2-2-2zM9 17H7v-7h2v7zm4 0h-2V7h2v10zm4 0h-2v-4h2v4z\"/>\n",
              "    </g>\n",
              "</svg>\n",
              "  </button>\n",
              "\n",
              "<style>\n",
              "  .colab-df-quickchart {\n",
              "    background-color: #E8F0FE;\n",
              "    border: none;\n",
              "    border-radius: 50%;\n",
              "    cursor: pointer;\n",
              "    display: none;\n",
              "    fill: #1967D2;\n",
              "    height: 32px;\n",
              "    padding: 0 0 0 0;\n",
              "    width: 32px;\n",
              "  }\n",
              "\n",
              "  .colab-df-quickchart:hover {\n",
              "    background-color: #E2EBFA;\n",
              "    box-shadow: 0px 1px 2px rgba(60, 64, 67, 0.3), 0px 1px 3px 1px rgba(60, 64, 67, 0.15);\n",
              "    fill: #174EA6;\n",
              "  }\n",
              "\n",
              "  [theme=dark] .colab-df-quickchart {\n",
              "    background-color: #3B4455;\n",
              "    fill: #D2E3FC;\n",
              "  }\n",
              "\n",
              "  [theme=dark] .colab-df-quickchart:hover {\n",
              "    background-color: #434B5C;\n",
              "    box-shadow: 0px 1px 3px 1px rgba(0, 0, 0, 0.15);\n",
              "    filter: drop-shadow(0px 1px 2px rgba(0, 0, 0, 0.3));\n",
              "    fill: #FFFFFF;\n",
              "  }\n",
              "</style>\n",
              "\n",
              "  <script>\n",
              "    async function quickchart(key) {\n",
              "      const charts = await google.colab.kernel.invokeFunction(\n",
              "          'suggestCharts', [key], {});\n",
              "    }\n",
              "    (() => {\n",
              "      let quickchartButtonEl =\n",
              "        document.querySelector('#df-3866a1fd-2120-4cf2-80e6-a416d44ae3a5 button');\n",
              "      quickchartButtonEl.style.display =\n",
              "        google.colab.kernel.accessAllowed ? 'block' : 'none';\n",
              "    })();\n",
              "  </script>\n",
              "</div>\n",
              "    </div>\n",
              "  </div>\n"
            ]
          },
          "metadata": {},
          "execution_count": 61
        }
      ]
    },
    {
      "cell_type": "markdown",
      "source": [
        "-------------------\n",
        "## split data"
      ],
      "metadata": {
        "id": "QhYqDdv2jI8_"
      }
    },
    {
      "cell_type": "code",
      "source": [
        "x = df.iloc[:,:-1]\n",
        "y = df.iloc[:,-1]"
      ],
      "metadata": {
        "id": "qnEsMGPUMzcJ"
      },
      "execution_count": 62,
      "outputs": []
    },
    {
      "cell_type": "markdown",
      "source": [
        "-----------------\n",
        "## resample imbalanced data [SMOTE technique]"
      ],
      "metadata": {
        "id": "ACV8SYDljYQl"
      }
    },
    {
      "cell_type": "code",
      "source": [
        "from imblearn.over_sampling import SMOTE\n",
        "\n",
        "smote = SMOTE(sampling_strategy='minority')\n",
        "x , y = smote.fit_resample(x,y)"
      ],
      "metadata": {
        "id": "MnZZcvyZP0Nv"
      },
      "execution_count": 63,
      "outputs": []
    },
    {
      "cell_type": "code",
      "source": [
        "y.value_counts()"
      ],
      "metadata": {
        "colab": {
          "base_uri": "https://localhost:8080/"
        },
        "id": "Jx6wfdK9fc-0",
        "outputId": "ea1f58da-634a-4256-ee82-3f861b8b362e"
      },
      "execution_count": 64,
      "outputs": [
        {
          "output_type": "execute_result",
          "data": {
            "text/plain": [
              "0    5153\n",
              "1    5153\n",
              "Name: Churn_Yes, dtype: int64"
            ]
          },
          "metadata": {},
          "execution_count": 64
        }
      ]
    },
    {
      "cell_type": "code",
      "source": [
        "x_train , x_test , y_train , y_test = train_test_split(x,y,test_size=.2,random_state=123,stratify=y)"
      ],
      "metadata": {
        "id": "XJTxH7YYN5Sm"
      },
      "execution_count": 65,
      "outputs": []
    },
    {
      "cell_type": "markdown",
      "source": [
        "--------------------------------------------"
      ],
      "metadata": {
        "id": "WT4WGbG3Pb-O"
      }
    },
    {
      "cell_type": "markdown",
      "source": [
        "## build ANN model"
      ],
      "metadata": {
        "id": "wYstAuYgjN9M"
      }
    },
    {
      "cell_type": "code",
      "source": [
        "model = keras.Sequential([\n",
        "    keras.layers.Dense(80, input_shape =(23,) ,activation = 'relu') ,\n",
        "    keras.layers.Dropout(.2),\n",
        "    keras.layers.Dense(70, activation = 'relu') ,\n",
        "    keras.layers.Dropout(.2),\n",
        "    keras.layers.Dense(60, activation = 'relu') ,\n",
        "    keras.layers.Dropout(.2),\n",
        "    keras.layers.Dense(50, activation = 'relu') ,\n",
        "    keras.layers.Dropout(.2),\n",
        "    keras.layers.Dense(40,activation = 'relu') ,\n",
        "    keras.layers.Dropout(.2),\n",
        "    keras.layers.Dense(30,activation = 'relu') ,\n",
        "    keras.layers.Dropout(.2),\n",
        "    keras.layers.Dense(20,activation = 'relu'),\n",
        "    keras.layers.Dropout(.2),\n",
        "    keras.layers.Dense(10,activation = 'relu'),\n",
        "    keras.layers.Dropout(.2),\n",
        "    keras.layers.Dense(1,activation = 'sigmoid')\n",
        "\n",
        "])\n",
        "\n",
        "model.compile(\n",
        "    optimizer = 'adam',\n",
        "    loss = 'binary_crossentropy',\n",
        "    metrics = ['accuracy']\n",
        ")\n",
        "\n",
        "model.fit(x_train,y_train , epochs = 100)"
      ],
      "metadata": {
        "colab": {
          "base_uri": "https://localhost:8080/"
        },
        "id": "fAR3FI_oOWZh",
        "outputId": "0dc268e3-a7e1-4439-9ad4-d2d6b21849ef"
      },
      "execution_count": 75,
      "outputs": [
        {
          "output_type": "stream",
          "name": "stdout",
          "text": [
            "Epoch 1/100\n",
            "258/258 [==============================] - 7s 5ms/step - loss: 0.5818 - accuracy: 0.7028\n",
            "Epoch 2/100\n",
            "258/258 [==============================] - 1s 5ms/step - loss: 0.5133 - accuracy: 0.7676\n",
            "Epoch 3/100\n",
            "258/258 [==============================] - 1s 5ms/step - loss: 0.4983 - accuracy: 0.7744\n",
            "Epoch 4/100\n",
            "258/258 [==============================] - 1s 5ms/step - loss: 0.4834 - accuracy: 0.7808\n",
            "Epoch 5/100\n",
            "258/258 [==============================] - 1s 5ms/step - loss: 0.4731 - accuracy: 0.7836\n",
            "Epoch 6/100\n",
            "258/258 [==============================] - 1s 5ms/step - loss: 0.4728 - accuracy: 0.7880\n",
            "Epoch 7/100\n",
            "258/258 [==============================] - 1s 5ms/step - loss: 0.4656 - accuracy: 0.7920\n",
            "Epoch 8/100\n",
            "258/258 [==============================] - 2s 6ms/step - loss: 0.4596 - accuracy: 0.7923\n",
            "Epoch 9/100\n",
            "258/258 [==============================] - 2s 6ms/step - loss: 0.4548 - accuracy: 0.7937\n",
            "Epoch 10/100\n",
            "258/258 [==============================] - 1s 5ms/step - loss: 0.4570 - accuracy: 0.7967\n",
            "Epoch 11/100\n",
            "258/258 [==============================] - 1s 5ms/step - loss: 0.4533 - accuracy: 0.7963\n",
            "Epoch 12/100\n",
            "258/258 [==============================] - 1s 5ms/step - loss: 0.4462 - accuracy: 0.8007\n",
            "Epoch 13/100\n",
            "258/258 [==============================] - 1s 5ms/step - loss: 0.4510 - accuracy: 0.7963\n",
            "Epoch 14/100\n",
            "258/258 [==============================] - 1s 5ms/step - loss: 0.4454 - accuracy: 0.8047\n",
            "Epoch 15/100\n",
            "258/258 [==============================] - 1s 6ms/step - loss: 0.4387 - accuracy: 0.8035\n",
            "Epoch 16/100\n",
            "258/258 [==============================] - 1s 6ms/step - loss: 0.4335 - accuracy: 0.8087\n",
            "Epoch 17/100\n",
            "258/258 [==============================] - 2s 7ms/step - loss: 0.4346 - accuracy: 0.8060\n",
            "Epoch 18/100\n",
            "258/258 [==============================] - 1s 6ms/step - loss: 0.4331 - accuracy: 0.8099\n",
            "Epoch 19/100\n",
            "258/258 [==============================] - 1s 5ms/step - loss: 0.4321 - accuracy: 0.8063\n",
            "Epoch 20/100\n",
            "258/258 [==============================] - 1s 5ms/step - loss: 0.4260 - accuracy: 0.8126\n",
            "Epoch 21/100\n",
            "258/258 [==============================] - 1s 5ms/step - loss: 0.4185 - accuracy: 0.8166\n",
            "Epoch 22/100\n",
            "258/258 [==============================] - 1s 5ms/step - loss: 0.4209 - accuracy: 0.8140\n",
            "Epoch 23/100\n",
            "258/258 [==============================] - 1s 5ms/step - loss: 0.4288 - accuracy: 0.8128\n",
            "Epoch 24/100\n",
            "258/258 [==============================] - 1s 5ms/step - loss: 0.4234 - accuracy: 0.8167\n",
            "Epoch 25/100\n",
            "258/258 [==============================] - 1s 5ms/step - loss: 0.4189 - accuracy: 0.8176\n",
            "Epoch 26/100\n",
            "258/258 [==============================] - 2s 6ms/step - loss: 0.4138 - accuracy: 0.8253\n",
            "Epoch 27/100\n",
            "258/258 [==============================] - 2s 6ms/step - loss: 0.4135 - accuracy: 0.8205\n",
            "Epoch 28/100\n",
            "258/258 [==============================] - 1s 5ms/step - loss: 0.4118 - accuracy: 0.8228\n",
            "Epoch 29/100\n",
            "258/258 [==============================] - 1s 5ms/step - loss: 0.4012 - accuracy: 0.8303\n",
            "Epoch 30/100\n",
            "258/258 [==============================] - 1s 5ms/step - loss: 0.4024 - accuracy: 0.8257\n",
            "Epoch 31/100\n",
            "258/258 [==============================] - 1s 5ms/step - loss: 0.4048 - accuracy: 0.8221\n",
            "Epoch 32/100\n",
            "258/258 [==============================] - 1s 5ms/step - loss: 0.4023 - accuracy: 0.8247\n",
            "Epoch 33/100\n",
            "258/258 [==============================] - 1s 5ms/step - loss: 0.4032 - accuracy: 0.8258\n",
            "Epoch 34/100\n",
            "258/258 [==============================] - 1s 5ms/step - loss: 0.4014 - accuracy: 0.8258\n",
            "Epoch 35/100\n",
            "258/258 [==============================] - 2s 6ms/step - loss: 0.3955 - accuracy: 0.8305\n",
            "Epoch 36/100\n",
            "258/258 [==============================] - 2s 6ms/step - loss: 0.3967 - accuracy: 0.8348\n",
            "Epoch 37/100\n",
            "258/258 [==============================] - 1s 5ms/step - loss: 0.3969 - accuracy: 0.8261\n",
            "Epoch 38/100\n",
            "258/258 [==============================] - 1s 5ms/step - loss: 0.3924 - accuracy: 0.8327\n",
            "Epoch 39/100\n",
            "258/258 [==============================] - 1s 5ms/step - loss: 0.3897 - accuracy: 0.8302\n",
            "Epoch 40/100\n",
            "258/258 [==============================] - 1s 5ms/step - loss: 0.3931 - accuracy: 0.8242\n",
            "Epoch 41/100\n",
            "258/258 [==============================] - 1s 5ms/step - loss: 0.3900 - accuracy: 0.8307\n",
            "Epoch 42/100\n",
            "258/258 [==============================] - 1s 5ms/step - loss: 0.3864 - accuracy: 0.8358\n",
            "Epoch 43/100\n",
            "258/258 [==============================] - 1s 5ms/step - loss: 0.3931 - accuracy: 0.8342\n",
            "Epoch 44/100\n",
            "258/258 [==============================] - 2s 6ms/step - loss: 0.3938 - accuracy: 0.8290\n",
            "Epoch 45/100\n",
            "258/258 [==============================] - 2s 7ms/step - loss: 0.3828 - accuracy: 0.8358\n",
            "Epoch 46/100\n",
            "258/258 [==============================] - 1s 5ms/step - loss: 0.3791 - accuracy: 0.8375\n",
            "Epoch 47/100\n",
            "258/258 [==============================] - 1s 5ms/step - loss: 0.3807 - accuracy: 0.8384\n",
            "Epoch 48/100\n",
            "258/258 [==============================] - 1s 5ms/step - loss: 0.3762 - accuracy: 0.8355\n",
            "Epoch 49/100\n",
            "258/258 [==============================] - 1s 5ms/step - loss: 0.3782 - accuracy: 0.8371\n",
            "Epoch 50/100\n",
            "258/258 [==============================] - 1s 5ms/step - loss: 0.3732 - accuracy: 0.8426\n",
            "Epoch 51/100\n",
            "258/258 [==============================] - 1s 5ms/step - loss: 0.3779 - accuracy: 0.8418\n",
            "Epoch 52/100\n",
            "258/258 [==============================] - 1s 5ms/step - loss: 0.3744 - accuracy: 0.8381\n",
            "Epoch 53/100\n",
            "258/258 [==============================] - 1s 6ms/step - loss: 0.3793 - accuracy: 0.8362\n",
            "Epoch 54/100\n",
            "258/258 [==============================] - 2s 7ms/step - loss: 0.3773 - accuracy: 0.8361\n",
            "Epoch 55/100\n",
            "258/258 [==============================] - 1s 5ms/step - loss: 0.3717 - accuracy: 0.8417\n",
            "Epoch 56/100\n",
            "258/258 [==============================] - 1s 5ms/step - loss: 0.3746 - accuracy: 0.8352\n",
            "Epoch 57/100\n",
            "258/258 [==============================] - 1s 5ms/step - loss: 0.3685 - accuracy: 0.8469\n",
            "Epoch 58/100\n",
            "258/258 [==============================] - 1s 5ms/step - loss: 0.3708 - accuracy: 0.8438\n",
            "Epoch 59/100\n",
            "258/258 [==============================] - 1s 6ms/step - loss: 0.3691 - accuracy: 0.8398\n",
            "Epoch 60/100\n",
            "258/258 [==============================] - 1s 6ms/step - loss: 0.3687 - accuracy: 0.8398\n",
            "Epoch 61/100\n",
            "258/258 [==============================] - 1s 6ms/step - loss: 0.3680 - accuracy: 0.8415\n",
            "Epoch 62/100\n",
            "258/258 [==============================] - 2s 6ms/step - loss: 0.3647 - accuracy: 0.8428\n",
            "Epoch 63/100\n",
            "258/258 [==============================] - 2s 6ms/step - loss: 0.3695 - accuracy: 0.8400\n",
            "Epoch 64/100\n",
            "258/258 [==============================] - 1s 5ms/step - loss: 0.3643 - accuracy: 0.8429\n",
            "Epoch 65/100\n",
            "258/258 [==============================] - 1s 5ms/step - loss: 0.3601 - accuracy: 0.8489\n",
            "Epoch 66/100\n",
            "258/258 [==============================] - 1s 5ms/step - loss: 0.3623 - accuracy: 0.8462\n",
            "Epoch 67/100\n",
            "258/258 [==============================] - 1s 5ms/step - loss: 0.3562 - accuracy: 0.8485\n",
            "Epoch 68/100\n",
            "258/258 [==============================] - 1s 5ms/step - loss: 0.3601 - accuracy: 0.8450\n",
            "Epoch 69/100\n",
            "258/258 [==============================] - 1s 5ms/step - loss: 0.3573 - accuracy: 0.8513\n",
            "Epoch 70/100\n",
            "258/258 [==============================] - 1s 5ms/step - loss: 0.3614 - accuracy: 0.8413\n",
            "Epoch 71/100\n",
            "258/258 [==============================] - 2s 6ms/step - loss: 0.3614 - accuracy: 0.8492\n",
            "Epoch 72/100\n",
            "258/258 [==============================] - 2s 8ms/step - loss: 0.3579 - accuracy: 0.8432\n",
            "Epoch 73/100\n",
            "258/258 [==============================] - 1s 5ms/step - loss: 0.3529 - accuracy: 0.8445\n",
            "Epoch 74/100\n",
            "258/258 [==============================] - 1s 5ms/step - loss: 0.3462 - accuracy: 0.8472\n",
            "Epoch 75/100\n",
            "258/258 [==============================] - 2s 6ms/step - loss: 0.3538 - accuracy: 0.8456\n",
            "Epoch 76/100\n",
            "258/258 [==============================] - 1s 5ms/step - loss: 0.3552 - accuracy: 0.8467\n",
            "Epoch 77/100\n",
            "258/258 [==============================] - 1s 5ms/step - loss: 0.3608 - accuracy: 0.8439\n",
            "Epoch 78/100\n",
            "258/258 [==============================] - 1s 5ms/step - loss: 0.3480 - accuracy: 0.8516\n",
            "Epoch 79/100\n",
            "258/258 [==============================] - 1s 5ms/step - loss: 0.3557 - accuracy: 0.8452\n",
            "Epoch 80/100\n",
            "258/258 [==============================] - 2s 7ms/step - loss: 0.3442 - accuracy: 0.8550\n",
            "Epoch 81/100\n",
            "258/258 [==============================] - 1s 6ms/step - loss: 0.3513 - accuracy: 0.8512\n",
            "Epoch 82/100\n",
            "258/258 [==============================] - 1s 5ms/step - loss: 0.3469 - accuracy: 0.8487\n",
            "Epoch 83/100\n",
            "258/258 [==============================] - 1s 5ms/step - loss: 0.3500 - accuracy: 0.8492\n",
            "Epoch 84/100\n",
            "258/258 [==============================] - 1s 5ms/step - loss: 0.3429 - accuracy: 0.8565\n",
            "Epoch 85/100\n",
            "258/258 [==============================] - 1s 5ms/step - loss: 0.3492 - accuracy: 0.8491\n",
            "Epoch 86/100\n",
            "258/258 [==============================] - 2s 6ms/step - loss: 0.3504 - accuracy: 0.8529\n",
            "Epoch 87/100\n",
            "258/258 [==============================] - 2s 7ms/step - loss: 0.3437 - accuracy: 0.8492\n",
            "Epoch 88/100\n",
            "258/258 [==============================] - 2s 6ms/step - loss: 0.3449 - accuracy: 0.8509\n",
            "Epoch 89/100\n",
            "258/258 [==============================] - 2s 7ms/step - loss: 0.3420 - accuracy: 0.8523\n",
            "Epoch 90/100\n",
            "258/258 [==============================] - 1s 5ms/step - loss: 0.3462 - accuracy: 0.8535\n",
            "Epoch 91/100\n",
            "258/258 [==============================] - 1s 5ms/step - loss: 0.3438 - accuracy: 0.8564\n",
            "Epoch 92/100\n",
            "258/258 [==============================] - 1s 5ms/step - loss: 0.3403 - accuracy: 0.8567\n",
            "Epoch 93/100\n",
            "258/258 [==============================] - 1s 5ms/step - loss: 0.3377 - accuracy: 0.8584\n",
            "Epoch 94/100\n",
            "258/258 [==============================] - 1s 5ms/step - loss: 0.3358 - accuracy: 0.8581\n",
            "Epoch 95/100\n",
            "258/258 [==============================] - 1s 5ms/step - loss: 0.3424 - accuracy: 0.8538\n",
            "Epoch 96/100\n",
            "258/258 [==============================] - 1s 5ms/step - loss: 0.3352 - accuracy: 0.8584\n",
            "Epoch 97/100\n",
            "258/258 [==============================] - 2s 6ms/step - loss: 0.3431 - accuracy: 0.8548\n",
            "Epoch 98/100\n",
            "258/258 [==============================] - 2s 7ms/step - loss: 0.3410 - accuracy: 0.8531\n",
            "Epoch 99/100\n",
            "258/258 [==============================] - 1s 5ms/step - loss: 0.3324 - accuracy: 0.8583\n",
            "Epoch 100/100\n",
            "258/258 [==============================] - 1s 5ms/step - loss: 0.3357 - accuracy: 0.8578\n"
          ]
        },
        {
          "output_type": "execute_result",
          "data": {
            "text/plain": [
              "<keras.callbacks.History at 0x795ee47e95a0>"
            ]
          },
          "metadata": {},
          "execution_count": 75
        }
      ]
    },
    {
      "cell_type": "markdown",
      "source": [
        "---------\n",
        "## evaluate model"
      ],
      "metadata": {
        "id": "6cECAZ4ljTzV"
      }
    },
    {
      "cell_type": "code",
      "source": [
        "model.evaluate(x_test,y_test)"
      ],
      "metadata": {
        "colab": {
          "base_uri": "https://localhost:8080/"
        },
        "id": "Fel_gHlRQ45j",
        "outputId": "3ed55ac2-6dd6-41d1-aafa-1a4b55d2eaf6"
      },
      "execution_count": 76,
      "outputs": [
        {
          "output_type": "stream",
          "name": "stdout",
          "text": [
            "65/65 [==============================] - 0s 2ms/step - loss: 0.4203 - accuracy: 0.8269\n"
          ]
        },
        {
          "output_type": "execute_result",
          "data": {
            "text/plain": [
              "[0.4202868342399597, 0.8268671035766602]"
            ]
          },
          "metadata": {},
          "execution_count": 76
        }
      ]
    },
    {
      "cell_type": "code",
      "source": [
        "y_pred = model.predict(x_test)\n",
        "\n",
        "y_pred = [np.round(i) for i in y_pred]"
      ],
      "metadata": {
        "colab": {
          "base_uri": "https://localhost:8080/"
        },
        "id": "poaZSPOLRX7D",
        "outputId": "1ce49f14-e976-4f62-b7c4-96408d5a66af"
      },
      "execution_count": 77,
      "outputs": [
        {
          "output_type": "stream",
          "name": "stdout",
          "text": [
            "65/65 [==============================] - 0s 2ms/step\n"
          ]
        }
      ]
    },
    {
      "cell_type": "code",
      "source": [
        "from sklearn.metrics import classification_report\n",
        "print(classification_report(y_test,y_pred))"
      ],
      "metadata": {
        "colab": {
          "base_uri": "https://localhost:8080/"
        },
        "id": "Dr9z3N9xhk-x",
        "outputId": "35c127c4-18b6-42cb-cd59-faf91b436c81"
      },
      "execution_count": 78,
      "outputs": [
        {
          "output_type": "stream",
          "name": "stdout",
          "text": [
            "              precision    recall  f1-score   support\n",
            "\n",
            "           0       0.86      0.78      0.82      1031\n",
            "           1       0.80      0.88      0.84      1031\n",
            "\n",
            "    accuracy                           0.83      2062\n",
            "   macro avg       0.83      0.83      0.83      2062\n",
            "weighted avg       0.83      0.83      0.83      2062\n",
            "\n"
          ]
        }
      ]
    },
    {
      "cell_type": "code",
      "source": [
        "0"
      ],
      "metadata": {
        "id": "SZ6SD2yEhqdf"
      },
      "execution_count": 69,
      "outputs": []
    }
  ]
}